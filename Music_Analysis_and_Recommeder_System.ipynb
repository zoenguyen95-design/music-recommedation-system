{
  "nbformat": 4,
  "nbformat_minor": 0,
  "metadata": {
    "colab": {
      "name": "Music Analysis and Recommeder System.ipynb",
      "provenance": [],
      "include_colab_link": true
    },
    "kernelspec": {
      "name": "python3",
      "display_name": "Python 3"
    },
    "language_info": {
      "name": "python"
    }
  },
  "cells": [
    {
      "cell_type": "markdown",
      "metadata": {
        "id": "view-in-github",
        "colab_type": "text"
      },
      "source": [
        "<a href=\"https://colab.research.google.com/github/zoenguyen95-design/music-recommenation-system/blob/main/Music_Analysis_and_Recommeder_System.ipynb\" target=\"_parent\"><img src=\"https://colab.research.google.com/assets/colab-badge.svg\" alt=\"Open In Colab\"/></a>"
      ]
    },
    {
      "cell_type": "markdown",
      "source": [
        "CSIS 4260 - Special Topic of Data Analysis\n",
        "\n",
        "Group 11\n",
        "\n",
        "Le Quang Thy Nguyen - 300 312 559\n",
        "\n",
        "\n",
        "---\n",
        "\n"
      ],
      "metadata": {
        "id": "9yU8A8AwokeU"
      }
    },
    {
      "cell_type": "markdown",
      "metadata": {
        "id": "KzHwqpbiS-Qv"
      },
      "source": [
        "#**1. Importing libraries**"
      ]
    },
    {
      "cell_type": "code",
      "metadata": {
        "colab": {
          "base_uri": "https://localhost:8080/"
        },
        "id": "qWPrGkPBbAx_",
        "outputId": "327c8471-1f65-495c-fd76-7b7954a37b2e"
      },
      "source": [
        "#Import necessary libraries\n",
        "!pip install spotipy\n",
        "!pip install scikit-learn\n",
        "\n",
        "#Data analyze\n",
        "import json\n",
        "import pandas as pd\n",
        "import numpy as np\n",
        "\n",
        "#Spotify\n",
        "import spotipy \n",
        "from spotipy.oauth2 import SpotifyClientCredentials\n",
        "from spotipy.oauth2 import SpotifyOAuth\n",
        "import spotipy.util as util\n",
        "\n",
        "#Models\n",
        "import sklearn \n",
        "import matplotlib.pyplot as plt\n",
        "%matplotlib inline\n",
        "import seaborn as sns\n",
        "import warnings\n",
        "warnings.filterwarnings(\"ignore\")\n",
        "\n",
        "from sklearn import datasets\n",
        "from sklearn.linear_model import LogisticRegression\n",
        "from sklearn.neighbors import KNeighborsClassifier\n",
        "from sklearn.ensemble import RandomForestClassifier\n",
        "from sklearn.tree import DecisionTreeClassifier\n",
        "\n",
        "from sklearn.preprocessing import MinMaxScaler\n",
        "from sklearn.model_selection import train_test_split\n",
        "from sklearn.model_selection import RandomizedSearchCV, GridSearchCV\n",
        "from sklearn.metrics.pairwise import cosine_similarity\n",
        "#from sklearn.metrics import confusion_matrix, classification_report"
      ],
      "execution_count": null,
      "outputs": [
        {
          "output_type": "stream",
          "name": "stdout",
          "text": [
            "Requirement already satisfied: spotipy in /usr/local/lib/python3.7/dist-packages (2.19.0)\n",
            "Requirement already satisfied: urllib3>=1.26.0 in /usr/local/lib/python3.7/dist-packages (from spotipy) (1.26.7)\n",
            "Requirement already satisfied: six>=1.15.0 in /usr/local/lib/python3.7/dist-packages (from spotipy) (1.15.0)\n",
            "Requirement already satisfied: requests>=2.25.0 in /usr/local/lib/python3.7/dist-packages (from spotipy) (2.26.0)\n",
            "Requirement already satisfied: charset-normalizer~=2.0.0 in /usr/local/lib/python3.7/dist-packages (from requests>=2.25.0->spotipy) (2.0.8)\n",
            "Requirement already satisfied: certifi>=2017.4.17 in /usr/local/lib/python3.7/dist-packages (from requests>=2.25.0->spotipy) (2021.10.8)\n",
            "Requirement already satisfied: idna<4,>=2.5 in /usr/local/lib/python3.7/dist-packages (from requests>=2.25.0->spotipy) (2.10)\n",
            "Requirement already satisfied: scikit-learn in /usr/local/lib/python3.7/dist-packages (1.0.1)\n",
            "Requirement already satisfied: scipy>=1.1.0 in /usr/local/lib/python3.7/dist-packages (from scikit-learn) (1.4.1)\n",
            "Requirement already satisfied: numpy>=1.14.6 in /usr/local/lib/python3.7/dist-packages (from scikit-learn) (1.19.5)\n",
            "Requirement already satisfied: threadpoolctl>=2.0.0 in /usr/local/lib/python3.7/dist-packages (from scikit-learn) (3.0.0)\n",
            "Requirement already satisfied: joblib>=0.11 in /usr/local/lib/python3.7/dist-packages (from scikit-learn) (1.1.0)\n"
          ]
        }
      ]
    },
    {
      "cell_type": "markdown",
      "metadata": {
        "id": "DWJ4V8od_xeE"
      },
      "source": [
        "#**2. Data Preparation**\n"
      ]
    },
    {
      "cell_type": "markdown",
      "metadata": {
        "id": "WiedlOC8eiFd"
      },
      "source": [
        "Read dataset from Google Drive "
      ]
    },
    {
      "cell_type": "code",
      "metadata": {
        "id": "rafNQu-pdypq",
        "colab": {
          "base_uri": "https://localhost:8080/",
          "height": 35
        },
        "outputId": "3ed8a4ea-0da7-427f-f9e8-2bf85e1175cc"
      },
      "source": [
        "# Code to read csv file into Colab:\n",
        "!pip install -U -q PyDrive\n",
        "from pydrive.auth import GoogleAuth\n",
        "from pydrive.drive import GoogleDrive\n",
        "from google.colab import auth\n",
        "from oauth2client.client import GoogleCredentials\n",
        "# Authenticate and create the PyDrive client.\n",
        "auth.authenticate_user()\n",
        "gauth = GoogleAuth()\n",
        "gauth.credentials = GoogleCredentials.get_application_default()\n",
        "drive = GoogleDrive(gauth)\n",
        "\n",
        "''' The shareable link: \"4/1AX4XfWhZAdFru3ZNPl3GtPc2z617GX7MT3xBJ3RbAoQz93u38qj8W_nRu3E\n",
        " '''\n",
        " "
      ],
      "execution_count": null,
      "outputs": [
        {
          "output_type": "execute_result",
          "data": {
            "application/vnd.google.colaboratory.intrinsic+json": {
              "type": "string"
            },
            "text/plain": [
              "' The shareable link: \"4/1AX4XfWhZAdFru3ZNPl3GtPc2z617GX7MT3xBJ3RbAoQz93u38qj8W_nRu3E\\n '"
            ]
          },
          "metadata": {},
          "execution_count": 18
        }
      ]
    },
    {
      "cell_type": "code",
      "metadata": {
        "colab": {
          "base_uri": "https://localhost:8080/"
        },
        "id": "K0fGDzu-y1Un",
        "outputId": "c3129ef1-5c2e-44b0-a0f0-dfce1c94e9fe"
      },
      "source": [
        "#Mounted data from  drive \n",
        "from google.colab import drive\n",
        "\n",
        "drive.mount('/content/drive')"
      ],
      "execution_count": null,
      "outputs": [
        {
          "output_type": "stream",
          "name": "stdout",
          "text": [
            "Mounted at /content/drive\n"
          ]
        }
      ]
    },
    {
      "cell_type": "code",
      "metadata": {
        "id": "rZum2iGgeGeV",
        "colab": {
          "base_uri": "https://localhost:8080/",
          "height": 35
        },
        "outputId": "6e25d9fc-0db1-4a4c-d0b5-7510e71352eb"
      },
      "source": [
        "#path to connect from content/drive \n",
        "path = \"/content/drive/MyDrive/CSIS 4260 - Term Project/SpotifyFeatures.csv\"\n",
        " \n",
        "#Read the data csv\n",
        "song_data = pd.read_csv(path)\n",
        "\n",
        "''' path = \"/content/drive/MyDrive/CSIS 4260 - Term Project/SpotifyFeatures.csv\" '''"
      ],
      "execution_count": null,
      "outputs": [
        {
          "output_type": "execute_result",
          "data": {
            "application/vnd.google.colaboratory.intrinsic+json": {
              "type": "string"
            },
            "text/plain": [
              "' path = \"/content/drive/MyDrive/CSIS 4260 - Term Project/SpotifyFeatures.csv\" '"
            ]
          },
          "metadata": {},
          "execution_count": 23
        }
      ]
    },
    {
      "cell_type": "code",
      "source": [
        "''' #Read csv file by uploading from local file \n",
        "from google.colab import files\n",
        "uploaded = files.upload()\n",
        "\n",
        "song_data= pd.read_csv('SpotifyFeatures.csv') '''"
      ],
      "metadata": {
        "colab": {
          "base_uri": "https://localhost:8080/",
          "height": 54
        },
        "id": "AGObsrMnfmM-",
        "outputId": "05fd808e-2828-4544-f8ec-2c58ca34a6af"
      },
      "execution_count": null,
      "outputs": [
        {
          "output_type": "execute_result",
          "data": {
            "application/vnd.google.colaboratory.intrinsic+json": {
              "type": "string"
            },
            "text/plain": [
              "\" #Read csv file by uploading from local file \\nfrom google.colab import files\\nuploaded = files.upload()\\n\\nsong_data= pd.read_csv('SpotifyFeatures.csv') \""
            ]
          },
          "metadata": {},
          "execution_count": 20
        }
      ]
    },
    {
      "cell_type": "code",
      "metadata": {
        "id": "Kwz_w4mE4trU",
        "colab": {
          "base_uri": "https://localhost:8080/",
          "height": 417
        },
        "outputId": "b3fc58e3-89bc-4c10-fbe7-0e5dc52f7c16"
      },
      "source": [
        "#Return top 5 rows of the dataframe\n",
        "song_data.head() \n"
      ],
      "execution_count": null,
      "outputs": [
        {
          "output_type": "execute_result",
          "data": {
            "text/html": [
              "<div>\n",
              "<style scoped>\n",
              "    .dataframe tbody tr th:only-of-type {\n",
              "        vertical-align: middle;\n",
              "    }\n",
              "\n",
              "    .dataframe tbody tr th {\n",
              "        vertical-align: top;\n",
              "    }\n",
              "\n",
              "    .dataframe thead th {\n",
              "        text-align: right;\n",
              "    }\n",
              "</style>\n",
              "<table border=\"1\" class=\"dataframe\">\n",
              "  <thead>\n",
              "    <tr style=\"text-align: right;\">\n",
              "      <th></th>\n",
              "      <th>genre</th>\n",
              "      <th>artist_name</th>\n",
              "      <th>track_name</th>\n",
              "      <th>track_id</th>\n",
              "      <th>popularity</th>\n",
              "      <th>acousticness</th>\n",
              "      <th>danceability</th>\n",
              "      <th>duration_ms</th>\n",
              "      <th>energy</th>\n",
              "      <th>instrumentalness</th>\n",
              "      <th>key</th>\n",
              "      <th>liveness</th>\n",
              "      <th>loudness</th>\n",
              "      <th>mode</th>\n",
              "      <th>speechiness</th>\n",
              "      <th>tempo</th>\n",
              "      <th>time_signature</th>\n",
              "      <th>valence</th>\n",
              "    </tr>\n",
              "  </thead>\n",
              "  <tbody>\n",
              "    <tr>\n",
              "      <th>0</th>\n",
              "      <td>Movie</td>\n",
              "      <td>Henri Salvador</td>\n",
              "      <td>C'est beau de faire un Show</td>\n",
              "      <td>0BRjO6ga9RKCKjfDqeFgWV</td>\n",
              "      <td>0</td>\n",
              "      <td>0.611</td>\n",
              "      <td>0.389</td>\n",
              "      <td>99373</td>\n",
              "      <td>0.910</td>\n",
              "      <td>0.000</td>\n",
              "      <td>C#</td>\n",
              "      <td>0.3460</td>\n",
              "      <td>-1.828</td>\n",
              "      <td>Major</td>\n",
              "      <td>0.0525</td>\n",
              "      <td>166.969</td>\n",
              "      <td>4/4</td>\n",
              "      <td>0.814</td>\n",
              "    </tr>\n",
              "    <tr>\n",
              "      <th>1</th>\n",
              "      <td>Movie</td>\n",
              "      <td>Martin &amp; les fées</td>\n",
              "      <td>Perdu d'avance (par Gad Elmaleh)</td>\n",
              "      <td>0BjC1NfoEOOusryehmNudP</td>\n",
              "      <td>1</td>\n",
              "      <td>0.246</td>\n",
              "      <td>0.590</td>\n",
              "      <td>137373</td>\n",
              "      <td>0.737</td>\n",
              "      <td>0.000</td>\n",
              "      <td>F#</td>\n",
              "      <td>0.1510</td>\n",
              "      <td>-5.559</td>\n",
              "      <td>Minor</td>\n",
              "      <td>0.0868</td>\n",
              "      <td>174.003</td>\n",
              "      <td>4/4</td>\n",
              "      <td>0.816</td>\n",
              "    </tr>\n",
              "    <tr>\n",
              "      <th>2</th>\n",
              "      <td>Movie</td>\n",
              "      <td>Joseph Williams</td>\n",
              "      <td>Don't Let Me Be Lonely Tonight</td>\n",
              "      <td>0CoSDzoNIKCRs124s9uTVy</td>\n",
              "      <td>3</td>\n",
              "      <td>0.952</td>\n",
              "      <td>0.663</td>\n",
              "      <td>170267</td>\n",
              "      <td>0.131</td>\n",
              "      <td>0.000</td>\n",
              "      <td>C</td>\n",
              "      <td>0.1030</td>\n",
              "      <td>-13.879</td>\n",
              "      <td>Minor</td>\n",
              "      <td>0.0362</td>\n",
              "      <td>99.488</td>\n",
              "      <td>5/4</td>\n",
              "      <td>0.368</td>\n",
              "    </tr>\n",
              "    <tr>\n",
              "      <th>3</th>\n",
              "      <td>Movie</td>\n",
              "      <td>Henri Salvador</td>\n",
              "      <td>Dis-moi Monsieur Gordon Cooper</td>\n",
              "      <td>0Gc6TVm52BwZD07Ki6tIvf</td>\n",
              "      <td>0</td>\n",
              "      <td>0.703</td>\n",
              "      <td>0.240</td>\n",
              "      <td>152427</td>\n",
              "      <td>0.326</td>\n",
              "      <td>0.000</td>\n",
              "      <td>C#</td>\n",
              "      <td>0.0985</td>\n",
              "      <td>-12.178</td>\n",
              "      <td>Major</td>\n",
              "      <td>0.0395</td>\n",
              "      <td>171.758</td>\n",
              "      <td>4/4</td>\n",
              "      <td>0.227</td>\n",
              "    </tr>\n",
              "    <tr>\n",
              "      <th>4</th>\n",
              "      <td>Movie</td>\n",
              "      <td>Fabien Nataf</td>\n",
              "      <td>Ouverture</td>\n",
              "      <td>0IuslXpMROHdEPvSl1fTQK</td>\n",
              "      <td>4</td>\n",
              "      <td>0.950</td>\n",
              "      <td>0.331</td>\n",
              "      <td>82625</td>\n",
              "      <td>0.225</td>\n",
              "      <td>0.123</td>\n",
              "      <td>F</td>\n",
              "      <td>0.2020</td>\n",
              "      <td>-21.150</td>\n",
              "      <td>Major</td>\n",
              "      <td>0.0456</td>\n",
              "      <td>140.576</td>\n",
              "      <td>4/4</td>\n",
              "      <td>0.390</td>\n",
              "    </tr>\n",
              "  </tbody>\n",
              "</table>\n",
              "</div>"
            ],
            "text/plain": [
              "   genre        artist_name  ... time_signature valence\n",
              "0  Movie     Henri Salvador  ...            4/4   0.814\n",
              "1  Movie  Martin & les fées  ...            4/4   0.816\n",
              "2  Movie    Joseph Williams  ...            5/4   0.368\n",
              "3  Movie     Henri Salvador  ...            4/4   0.227\n",
              "4  Movie       Fabien Nataf  ...            4/4   0.390\n",
              "\n",
              "[5 rows x 18 columns]"
            ]
          },
          "metadata": {},
          "execution_count": 24
        }
      ]
    },
    {
      "cell_type": "code",
      "metadata": {
        "colab": {
          "base_uri": "https://localhost:8080/"
        },
        "id": "8vuphp3p_uMg",
        "outputId": "ae230293-3369-42cd-b3d6-cc2e8d452c24"
      },
      "source": [
        "song_data.info()"
      ],
      "execution_count": null,
      "outputs": [
        {
          "output_type": "stream",
          "name": "stdout",
          "text": [
            "<class 'pandas.core.frame.DataFrame'>\n",
            "RangeIndex: 232725 entries, 0 to 232724\n",
            "Data columns (total 18 columns):\n",
            " #   Column            Non-Null Count   Dtype  \n",
            "---  ------            --------------   -----  \n",
            " 0   genre             232725 non-null  object \n",
            " 1   artist_name       232725 non-null  object \n",
            " 2   track_name        232725 non-null  object \n",
            " 3   track_id          232725 non-null  object \n",
            " 4   popularity        232725 non-null  int64  \n",
            " 5   acousticness      232725 non-null  float64\n",
            " 6   danceability      232725 non-null  float64\n",
            " 7   duration_ms       232725 non-null  int64  \n",
            " 8   energy            232725 non-null  float64\n",
            " 9   instrumentalness  232725 non-null  float64\n",
            " 10  key               232725 non-null  object \n",
            " 11  liveness          232725 non-null  float64\n",
            " 12  loudness          232725 non-null  float64\n",
            " 13  mode              232725 non-null  object \n",
            " 14  speechiness       232725 non-null  float64\n",
            " 15  tempo             232725 non-null  float64\n",
            " 16  time_signature    232725 non-null  object \n",
            " 17  valence           232725 non-null  float64\n",
            "dtypes: float64(9), int64(2), object(7)\n",
            "memory usage: 32.0+ MB\n"
          ]
        }
      ]
    },
    {
      "cell_type": "code",
      "metadata": {
        "colab": {
          "base_uri": "https://localhost:8080/"
        },
        "id": "5iTzui0L_7t-",
        "outputId": "bd7f32ed-fa07-4af8-8311-635e76146360"
      },
      "source": [
        "#Checking null value\n",
        "song_data.isnull().sum()"
      ],
      "execution_count": null,
      "outputs": [
        {
          "output_type": "execute_result",
          "data": {
            "text/plain": [
              "genre               0\n",
              "artist_name         0\n",
              "track_name          0\n",
              "track_id            0\n",
              "popularity          0\n",
              "acousticness        0\n",
              "danceability        0\n",
              "duration_ms         0\n",
              "energy              0\n",
              "instrumentalness    0\n",
              "key                 0\n",
              "liveness            0\n",
              "loudness            0\n",
              "mode                0\n",
              "speechiness         0\n",
              "tempo               0\n",
              "time_signature      0\n",
              "valence             0\n",
              "dtype: int64"
            ]
          },
          "metadata": {},
          "execution_count": 11
        }
      ]
    },
    {
      "cell_type": "code",
      "metadata": {
        "colab": {
          "base_uri": "https://localhost:8080/"
        },
        "id": "FG9aKiyC__uR",
        "outputId": "525e2efb-71cb-4edc-f545-39494853c342"
      },
      "source": [
        "# Checking data types to determine numerical data\n",
        "song_data.dtypes"
      ],
      "execution_count": null,
      "outputs": [
        {
          "output_type": "execute_result",
          "data": {
            "text/plain": [
              "genre                object\n",
              "artist_name          object\n",
              "track_name           object\n",
              "track_id             object\n",
              "popularity            int64\n",
              "acousticness        float64\n",
              "danceability        float64\n",
              "duration_ms           int64\n",
              "energy              float64\n",
              "instrumentalness    float64\n",
              "key                  object\n",
              "liveness            float64\n",
              "loudness            float64\n",
              "mode                 object\n",
              "speechiness         float64\n",
              "tempo               float64\n",
              "time_signature       object\n",
              "valence             float64\n",
              "dtype: object"
            ]
          },
          "metadata": {},
          "execution_count": 12
        }
      ]
    },
    {
      "cell_type": "markdown",
      "metadata": {
        "id": "szeywbx4AG9K"
      },
      "source": [
        "#**3. Analysing music taste** \n",
        "\n"
      ]
    },
    {
      "cell_type": "markdown",
      "metadata": {
        "id": "xWjPHIsTB9nc"
      },
      "source": [
        "3.1. Histogram\n"
      ]
    },
    {
      "cell_type": "code",
      "metadata": {
        "colab": {
          "base_uri": "https://localhost:8080/"
        },
        "id": "yWZVpq0VAGMv",
        "outputId": "32dcd726-e108-42b3-9f75-c6931c2a1aca"
      },
      "source": [
        "#Genre Frequency \n",
        "song_data.groupby('genre').time_signature.count().sort_values(ascending=False).head()"
      ],
      "execution_count": null,
      "outputs": [
        {
          "output_type": "execute_result",
          "data": {
            "text/plain": [
              "genre\n",
              "Comedy        9681\n",
              "Soundtrack    9646\n",
              "Indie         9543\n",
              "Jazz          9441\n",
              "Pop           9386\n",
              "Name: time_signature, dtype: int64"
            ]
          },
          "metadata": {},
          "execution_count": 13
        }
      ]
    },
    {
      "cell_type": "code",
      "metadata": {
        "id": "-tAoYkEDAQfN"
      },
      "source": [
        "# Eliminate those features which non-numeric data type (object)\n",
        "numeric_data = song_data.drop([\"artist_name\",\"track_name\",\"track_id\",\"key\",\n",
        "                               \"mode\" , \"time_signature\"],axis=1)\n",
        "\n",
        "genre = song_data['genre']\n",
        "\n",
        "\n",
        "#  Split data into X and y \n",
        "X = numeric_data.drop(\"genre\", axis = 1)\n",
        "y= numeric_data[\"genre\"]"
      ],
      "execution_count": null,
      "outputs": []
    },
    {
      "cell_type": "code",
      "metadata": {
        "colab": {
          "base_uri": "https://localhost:8080/",
          "height": 226
        },
        "id": "Ia6Vw0JkBIOW",
        "outputId": "69f75827-2038-4422-aa1b-1e5738679211"
      },
      "source": [
        "numeric_data.head()"
      ],
      "execution_count": null,
      "outputs": [
        {
          "output_type": "execute_result",
          "data": {
            "text/html": [
              "<div>\n",
              "<style scoped>\n",
              "    .dataframe tbody tr th:only-of-type {\n",
              "        vertical-align: middle;\n",
              "    }\n",
              "\n",
              "    .dataframe tbody tr th {\n",
              "        vertical-align: top;\n",
              "    }\n",
              "\n",
              "    .dataframe thead th {\n",
              "        text-align: right;\n",
              "    }\n",
              "</style>\n",
              "<table border=\"1\" class=\"dataframe\">\n",
              "  <thead>\n",
              "    <tr style=\"text-align: right;\">\n",
              "      <th></th>\n",
              "      <th>genre</th>\n",
              "      <th>popularity</th>\n",
              "      <th>acousticness</th>\n",
              "      <th>danceability</th>\n",
              "      <th>duration_ms</th>\n",
              "      <th>energy</th>\n",
              "      <th>instrumentalness</th>\n",
              "      <th>liveness</th>\n",
              "      <th>loudness</th>\n",
              "      <th>speechiness</th>\n",
              "      <th>tempo</th>\n",
              "      <th>valence</th>\n",
              "    </tr>\n",
              "  </thead>\n",
              "  <tbody>\n",
              "    <tr>\n",
              "      <th>0</th>\n",
              "      <td>Movie</td>\n",
              "      <td>0</td>\n",
              "      <td>0.611</td>\n",
              "      <td>0.389</td>\n",
              "      <td>99373</td>\n",
              "      <td>0.910</td>\n",
              "      <td>0.000</td>\n",
              "      <td>0.3460</td>\n",
              "      <td>-1.828</td>\n",
              "      <td>0.0525</td>\n",
              "      <td>166.969</td>\n",
              "      <td>0.814</td>\n",
              "    </tr>\n",
              "    <tr>\n",
              "      <th>1</th>\n",
              "      <td>Movie</td>\n",
              "      <td>1</td>\n",
              "      <td>0.246</td>\n",
              "      <td>0.590</td>\n",
              "      <td>137373</td>\n",
              "      <td>0.737</td>\n",
              "      <td>0.000</td>\n",
              "      <td>0.1510</td>\n",
              "      <td>-5.559</td>\n",
              "      <td>0.0868</td>\n",
              "      <td>174.003</td>\n",
              "      <td>0.816</td>\n",
              "    </tr>\n",
              "    <tr>\n",
              "      <th>2</th>\n",
              "      <td>Movie</td>\n",
              "      <td>3</td>\n",
              "      <td>0.952</td>\n",
              "      <td>0.663</td>\n",
              "      <td>170267</td>\n",
              "      <td>0.131</td>\n",
              "      <td>0.000</td>\n",
              "      <td>0.1030</td>\n",
              "      <td>-13.879</td>\n",
              "      <td>0.0362</td>\n",
              "      <td>99.488</td>\n",
              "      <td>0.368</td>\n",
              "    </tr>\n",
              "    <tr>\n",
              "      <th>3</th>\n",
              "      <td>Movie</td>\n",
              "      <td>0</td>\n",
              "      <td>0.703</td>\n",
              "      <td>0.240</td>\n",
              "      <td>152427</td>\n",
              "      <td>0.326</td>\n",
              "      <td>0.000</td>\n",
              "      <td>0.0985</td>\n",
              "      <td>-12.178</td>\n",
              "      <td>0.0395</td>\n",
              "      <td>171.758</td>\n",
              "      <td>0.227</td>\n",
              "    </tr>\n",
              "    <tr>\n",
              "      <th>4</th>\n",
              "      <td>Movie</td>\n",
              "      <td>4</td>\n",
              "      <td>0.950</td>\n",
              "      <td>0.331</td>\n",
              "      <td>82625</td>\n",
              "      <td>0.225</td>\n",
              "      <td>0.123</td>\n",
              "      <td>0.2020</td>\n",
              "      <td>-21.150</td>\n",
              "      <td>0.0456</td>\n",
              "      <td>140.576</td>\n",
              "      <td>0.390</td>\n",
              "    </tr>\n",
              "  </tbody>\n",
              "</table>\n",
              "</div>"
            ],
            "text/plain": [
              "   genre  popularity  acousticness  ...  speechiness    tempo  valence\n",
              "0  Movie           0         0.611  ...       0.0525  166.969    0.814\n",
              "1  Movie           1         0.246  ...       0.0868  174.003    0.816\n",
              "2  Movie           3         0.952  ...       0.0362   99.488    0.368\n",
              "3  Movie           0         0.703  ...       0.0395  171.758    0.227\n",
              "4  Movie           4         0.950  ...       0.0456  140.576    0.390\n",
              "\n",
              "[5 rows x 12 columns]"
            ]
          },
          "metadata": {},
          "execution_count": 65
        }
      ]
    },
    {
      "cell_type": "markdown",
      "source": [
        "The value of all the features is in the range [0.0 - 1.0]."
      ],
      "metadata": {
        "id": "XyoTW67dLqAg"
      }
    },
    {
      "cell_type": "code",
      "metadata": {
        "colab": {
          "base_uri": "https://localhost:8080/",
          "height": 463
        },
        "id": "toDfQItEBg9l",
        "outputId": "f9a1b3f0-fa04-45ed-db35-6292ed2b35a2"
      },
      "source": [
        "#Histograms showing music features\n",
        "numeric_hist = numeric_data.hist(layout=(4,4),figsize=(15,10))\n",
        "plt.show()"
      ],
      "execution_count": null,
      "outputs": [
        {
          "output_type": "display_data",
          "data": {
            "image/png": "[encoded data removed]",
            "text/plain": [
              "<Figure size 1080x720 with 16 Axes>"
            ]
          },
          "metadata": {
            "needs_background": "light"
          }
        }
      ]
    },
    {
      "cell_type": "markdown",
      "source": [
        "Collection of genres that satisfied the result of music features"
      ],
      "metadata": {
        "id": "VU9RGiz8MZCE"
      }
    },
    {
      "cell_type": "code",
      "source": [
        "np.unique(genre)"
      ],
      "metadata": {
        "colab": {
          "base_uri": "https://localhost:8080/"
        },
        "id": "QaTZDLKEMD0E",
        "outputId": "eafe63da-5ffb-4e26-c96f-9b9d31de438e"
      },
      "execution_count": null,
      "outputs": [
        {
          "output_type": "execute_result",
          "data": {
            "text/plain": [
              "array(['A Capella', 'Alternative', 'Anime', 'Blues', \"Children's Music\",\n",
              "       'Children’s Music', 'Classical', 'Comedy', 'Country', 'Dance',\n",
              "       'Electronic', 'Folk', 'Hip-Hop', 'Indie', 'Jazz', 'Movie', 'Opera',\n",
              "       'Pop', 'R&B', 'Rap', 'Reggae', 'Reggaeton', 'Rock', 'Ska', 'Soul',\n",
              "       'Soundtrack', 'World'], dtype=object)"
            ]
          },
          "metadata": {},
          "execution_count": 67
        }
      ]
    },
    {
      "cell_type": "markdown",
      "metadata": {
        "id": "n-zupawjCDtS"
      },
      "source": [
        " 3.2. Radar chart \n"
      ]
    },
    {
      "cell_type": "code",
      "metadata": {
        "id": "9bEEjEtDCgTA"
      },
      "source": [
        "music_feature= song_data [['danceability','energy','loudness','speechiness',\n",
        "                           'acousticness','instrumentalness','liveness','valence','tempo','duration_ms']]\n",
        "\n",
        "#Using MinMax Scaling to normalize\n",
        "minMax_scaler = MinMaxScaler()\n",
        "\n",
        "music_feature.loc[:] = minMax_scaler.fit_transform(music_feature.loc[:])\n",
        "\n",
        "\n"
      ],
      "execution_count": null,
      "outputs": []
    },
    {
      "cell_type": "code",
      "metadata": {
        "colab": {
          "base_uri": "https://localhost:8080/",
          "height": 515
        },
        "id": "lpqgOS-eCGuG",
        "outputId": "aee2b577-5e55-46c5-d044-c31f999e2a2a"
      },
      "source": [
        "#Building Radar chart to analyze music taste \n",
        "import math\n",
        "from math import pi,cos,sin,tan,atan  \n",
        "\n",
        "\n",
        "fig = plt.figure(figsize=(12,8))\n",
        "\n",
        "categories = list(music_feature.columns)\n",
        "N = len(categories)\n",
        "\n",
        "i = list(music_feature.mean())\n",
        "i+= i[:1]\n",
        "\n",
        "# calculate angle for each category\n",
        "angles=[n/float(N)*2* pi for n in range(N)]\n",
        "angles+=angles[:1]\n",
        "\n",
        "# plot\n",
        "plt.polar(angles, i)\n",
        "plt.fill(angles,i,alpha=0.2)\n",
        "\n",
        "plt.title('Discovery Music Taste based on Song Features', size=15)\n",
        "\n",
        "plt.xticks(angles[:-1],categories, size=12)\n",
        "plt.yticks(color='grey',size=15)\n",
        "plt.show()"
      ],
      "execution_count": null,
      "outputs": [
        {
          "output_type": "display_data",
          "data": {
            "image/png": "[encoded data removed]",
            "text/plain": [
              "<Figure size 864x576 with 1 Axes>"
            ]
          },
          "metadata": {}
        }
      ]
    },
    {
      "cell_type": "markdown",
      "metadata": {
        "id": "A974eYGpC4Zb"
      },
      "source": [
        "#**4. Modelling**\n"
      ]
    },
    {
      "cell_type": "markdown",
      "metadata": {
        "id": "X59rzINHDEOj"
      },
      "source": [
        "To analyze/ discovery music feature before building the recommendation system, these models below are considered:\n",
        "- Random Forest\n",
        "- K-Nearest Neighbors\n",
        "- Logistic Regression\n",
        "- Decision Tree"
      ]
    },
    {
      "cell_type": "markdown",
      "metadata": {
        "id": "tHQjemlCaBJd"
      },
      "source": [
        "Spliting the dataset into training and testing "
      ]
    },
    {
      "cell_type": "code",
      "metadata": {
        "colab": {
          "base_uri": "https://localhost:8080/"
        },
        "id": "vixiBsrOC30T",
        "outputId": "0bcbf670-c460-439a-e28e-cbab90c39e8a"
      },
      "source": [
        "# Dividing data into Training and Testing datasets\n",
        "\n",
        "X_train, X_test, y_train, y_test = train_test_split(X, y, test_size=0.7, random_state=20)\n",
        "\n",
        "#approximately 70 percent of samples will be assigned as the test data, \n",
        "#the remaining 30 percent will be assigned to the training data\n",
        "\n",
        "len(y_train)\n",
        "\n",
        "len(y_test)"
      ],
      "execution_count": null,
      "outputs": [
        {
          "output_type": "execute_result",
          "data": {
            "text/plain": [
              "162908"
            ]
          },
          "metadata": {},
          "execution_count": 72
        }
      ]
    },
    {
      "cell_type": "markdown",
      "metadata": {
        "id": "vBs1OkGgDPr9"
      },
      "source": [
        "Comparing these models\n"
      ]
    },
    {
      "cell_type": "code",
      "metadata": {
        "id": "5SyAkisNDTB7"
      },
      "source": [
        "randomForest_model = RandomForestClassifier()\n",
        "KNN_model = KNeighborsClassifier()\n",
        "logisticReg_model = LogisticRegression()\n",
        "decisionTree_model = DecisionTreeClassifier()"
      ],
      "execution_count": null,
      "outputs": []
    },
    {
      "cell_type": "code",
      "metadata": {
        "colab": {
          "base_uri": "https://localhost:8080/"
        },
        "id": "zFRkgimJDVy8",
        "outputId": "3d05144d-34f8-4260-ffd9-bbd31e599456"
      },
      "source": [
        "randomForest_model.fit(X_train, y_train)\n",
        "KNN_model.fit(X_train, y_train)\n",
        "logisticReg_model.fit(X_train, y_train)\n",
        "decisionTree_model.fit(X_train, y_train)"
      ],
      "execution_count": null,
      "outputs": [
        {
          "output_type": "execute_result",
          "data": {
            "text/plain": [
              "DecisionTreeClassifier()"
            ]
          },
          "metadata": {},
          "execution_count": 74
        }
      ]
    },
    {
      "cell_type": "code",
      "metadata": {
        "colab": {
          "base_uri": "https://localhost:8080/"
        },
        "id": "qYkXDx36DYJV",
        "outputId": "4e8c32a2-4883-4a80-d2b2-c6afe7d02f71"
      },
      "source": [
        "randomForest_acc = randomForest_model.score(X_test, y_test)\n",
        "KNN_acc = KNN_model.score(X_test, y_test)\n",
        "logisticReg_acc = logisticReg_model.score(X_test, y_test)\n",
        "decisionTree_acc = decisionTree_model.score(X_test, y_test)\n",
        "\n",
        "print(\"Random Forest Accuracy:\", randomForest_acc )\n",
        "print(\"K-Nearest Neighbors Accuracy:\", KNN_acc)\n",
        "print(\"Logistic Regression Accuracy:\", logisticReg_acc)\n",
        "print(\"Decision Tree Accuracy:\", decisionTree_acc) \n",
        "\n",
        "\n"
      ],
      "execution_count": null,
      "outputs": [
        {
          "output_type": "stream",
          "name": "stdout",
          "text": [
            "Random Forest Accuracy: 0.3996120509735556\n",
            "K-Nearest Neighbors Accuracy: 0.07519581604341101\n",
            "Logistic Regression Accuracy: 0.10342647383799446\n",
            "Decision Tree Accuracy: 0.29056891005966556\n"
          ]
        }
      ]
    },
    {
      "cell_type": "markdown",
      "metadata": {
        "id": "hxNPaZo8S6xA"
      },
      "source": [
        "Model Visualization by using bar chart"
      ]
    },
    {
      "cell_type": "code",
      "metadata": {
        "colab": {
          "base_uri": "https://localhost:8080/",
          "height": 542
        },
        "id": "h-VnixNMDdOL",
        "outputId": "3ad21674-dae8-4403-abcb-1979c1387fad"
      },
      "source": [
        "import plotly.express as px \n",
        "\n",
        "figure1 = px.bar(\n",
        "    x = [\"Random Forest\", \"K-Nearest Neighbors\",\"Logistic Regression\", \"Decision Tree\"],\n",
        "    y = [randomForest_acc,KNN_acc,logisticReg_acc,decisionTree_acc], \n",
        "    color = [\"Random Forest\",\"K-Nearest Neighbors\",\"Logistic Regression\", \"Decision Tree\"],\n",
        "    labels = {'x': \"Model\", 'y' : \"Accuracy\"},\n",
        "    title = \"Comparison model accuracy\"\n",
        "\n",
        ")\n",
        "\n",
        "figure1.show()"
      ],
      "execution_count": null,
      "outputs": [
        {
          "output_type": "display_data",
          "data": {
            "text/html": [
              "<html>\n",
              "<head><meta charset=\"utf-8\" /></head>\n",
              "<body>\n",
              "    <div>\n",
              "            <script src=\"https://cdnjs.cloudflare.com/ajax/libs/mathjax/2.7.5/MathJax.js?config=TeX-AMS-MML_SVG\"></script><script type=\"text/javascript\">if (window.MathJax) {MathJax.Hub.Config({SVG: {font: \"STIX-Web\"}});}</script>\n",
              "                <script type=\"text/javascript\">window.PlotlyConfig = {MathJaxConfig: 'local'};</script>\n",
              "        <script src=\"https://cdn.plot.ly/plotly-latest.min.js\"></script>    \n",
              "            <div id=\"241ce10b-ee8b-4c00-8ca0-ac9d8d1a47f4\" class=\"plotly-graph-div\" style=\"height:525px; width:100%;\"></div>\n",
              "            <script type=\"text/javascript\">\n",
              "                \n",
              "                    window.PLOTLYENV=window.PLOTLYENV || {};\n",
              "                    \n",
              "                if (document.getElementById(\"241ce10b-ee8b-4c00-8ca0-ac9d8d1a47f4\")) {\n",
              "                    Plotly.newPlot(\n",
              "                        '241ce10b-ee8b-4c00-8ca0-ac9d8d1a47f4',\n",
              "                        [{\"alignmentgroup\": \"True\", \"hoverlabel\": {\"namelength\": 0}, \"hovertemplate\": \"color=Random Forest<br>Model=%{x}<br>Accuracy=%{y}\", \"legendgroup\": \"color=Random Forest\", \"marker\": {\"color\": \"#636efa\"}, \"name\": \"color=Random Forest\", \"offsetgroup\": \"color=Random Forest\", \"orientation\": \"v\", \"showlegend\": true, \"textposition\": \"auto\", \"type\": \"bar\", \"x\": [\"Random Forest\"], \"xaxis\": \"x\", \"y\": [0.3996120509735556], \"yaxis\": \"y\"}, {\"alignmentgroup\": \"True\", \"hoverlabel\": {\"namelength\": 0}, \"hovertemplate\": \"color=K-Nearest Neighbors<br>Model=%{x}<br>Accuracy=%{y}\", \"legendgroup\": \"color=K-Nearest Neighbors\", \"marker\": {\"color\": \"#EF553B\"}, \"name\": \"color=K-Nearest Neighbors\", \"offsetgroup\": \"color=K-Nearest Neighbors\", \"orientation\": \"v\", \"showlegend\": true, \"textposition\": \"auto\", \"type\": \"bar\", \"x\": [\"K-Nearest Neighbors\"], \"xaxis\": \"x\", \"y\": [0.07519581604341101], \"yaxis\": \"y\"}, {\"alignmentgroup\": \"True\", \"hoverlabel\": {\"namelength\": 0}, \"hovertemplate\": \"color=Logistic Regression<br>Model=%{x}<br>Accuracy=%{y}\", \"legendgroup\": \"color=Logistic Regression\", \"marker\": {\"color\": \"#00cc96\"}, \"name\": \"color=Logistic Regression\", \"offsetgroup\": \"color=Logistic Regression\", \"orientation\": \"v\", \"showlegend\": true, \"textposition\": \"auto\", \"type\": \"bar\", \"x\": [\"Logistic Regression\"], \"xaxis\": \"x\", \"y\": [0.10342647383799446], \"yaxis\": \"y\"}, {\"alignmentgroup\": \"True\", \"hoverlabel\": {\"namelength\": 0}, \"hovertemplate\": \"color=Decision Tree<br>Model=%{x}<br>Accuracy=%{y}\", \"legendgroup\": \"color=Decision Tree\", \"marker\": {\"color\": \"#ab63fa\"}, \"name\": \"color=Decision Tree\", \"offsetgroup\": \"color=Decision Tree\", \"orientation\": \"v\", \"showlegend\": true, \"textposition\": \"auto\", \"type\": \"bar\", \"x\": [\"Decision Tree\"], \"xaxis\": \"x\", \"y\": [0.29056891005966556], \"yaxis\": \"y\"}],\n",
              "                        {\"barmode\": \"relative\", \"legend\": {\"tracegroupgap\": 0}, \"template\": {\"data\": {\"bar\": [{\"error_x\": {\"color\": \"#2a3f5f\"}, \"error_y\": {\"color\": \"#2a3f5f\"}, \"marker\": {\"line\": {\"color\": \"#E5ECF6\", \"width\": 0.5}}, \"type\": \"bar\"}], \"barpolar\": [{\"marker\": {\"line\": {\"color\": \"#E5ECF6\", \"width\": 0.5}}, \"type\": \"barpolar\"}], \"carpet\": [{\"aaxis\": {\"endlinecolor\": \"#2a3f5f\", \"gridcolor\": \"white\", \"linecolor\": \"white\", \"minorgridcolor\": \"white\", \"startlinecolor\": \"#2a3f5f\"}, \"baxis\": {\"endlinecolor\": \"#2a3f5f\", \"gridcolor\": \"white\", \"linecolor\": \"white\", \"minorgridcolor\": \"white\", \"startlinecolor\": \"#2a3f5f\"}, \"type\": \"carpet\"}], \"choropleth\": [{\"colorbar\": {\"outlinewidth\": 0, \"ticks\": \"\"}, \"type\": \"choropleth\"}], \"contour\": [{\"colorbar\": {\"outlinewidth\": 0, \"ticks\": \"\"}, \"colorscale\": [[0.0, \"#0d0887\"], [0.1111111111111111, \"#46039f\"], [0.2222222222222222, \"#7201a8\"], [0.3333333333333333, \"#9c179e\"], [0.4444444444444444, \"#bd3786\"], [0.5555555555555556, \"#d8576b\"], [0.6666666666666666, \"#ed7953\"], [0.7777777777777778, \"#fb9f3a\"], [0.8888888888888888, \"#fdca26\"], [1.0, \"#f0f921\"]], \"type\": \"contour\"}], \"contourcarpet\": [{\"colorbar\": {\"outlinewidth\": 0, \"ticks\": \"\"}, \"type\": \"contourcarpet\"}], \"heatmap\": [{\"colorbar\": {\"outlinewidth\": 0, \"ticks\": \"\"}, \"colorscale\": [[0.0, \"#0d0887\"], [0.1111111111111111, \"#46039f\"], [0.2222222222222222, \"#7201a8\"], [0.3333333333333333, \"#9c179e\"], [0.4444444444444444, \"#bd3786\"], [0.5555555555555556, \"#d8576b\"], [0.6666666666666666, \"#ed7953\"], [0.7777777777777778, \"#fb9f3a\"], [0.8888888888888888, \"#fdca26\"], [1.0, \"#f0f921\"]], \"type\": \"heatmap\"}], \"heatmapgl\": [{\"colorbar\": {\"outlinewidth\": 0, \"ticks\": \"\"}, \"colorscale\": [[0.0, \"#0d0887\"], [0.1111111111111111, \"#46039f\"], [0.2222222222222222, \"#7201a8\"], [0.3333333333333333, \"#9c179e\"], [0.4444444444444444, \"#bd3786\"], [0.5555555555555556, \"#d8576b\"], [0.6666666666666666, \"#ed7953\"], [0.7777777777777778, \"#fb9f3a\"], [0.8888888888888888, \"#fdca26\"], [1.0, \"#f0f921\"]], \"type\": \"heatmapgl\"}], \"histogram\": [{\"marker\": {\"colorbar\": {\"outlinewidth\": 0, \"ticks\": \"\"}}, \"type\": \"histogram\"}], \"histogram2d\": [{\"colorbar\": {\"outlinewidth\": 0, \"ticks\": \"\"}, \"colorscale\": [[0.0, \"#0d0887\"], [0.1111111111111111, \"#46039f\"], [0.2222222222222222, \"#7201a8\"], [0.3333333333333333, \"#9c179e\"], [0.4444444444444444, \"#bd3786\"], [0.5555555555555556, \"#d8576b\"], [0.6666666666666666, \"#ed7953\"], [0.7777777777777778, \"#fb9f3a\"], [0.8888888888888888, \"#fdca26\"], [1.0, \"#f0f921\"]], \"type\": \"histogram2d\"}], \"histogram2dcontour\": [{\"colorbar\": {\"outlinewidth\": 0, \"ticks\": \"\"}, \"colorscale\": [[0.0, \"#0d0887\"], [0.1111111111111111, \"#46039f\"], [0.2222222222222222, \"#7201a8\"], [0.3333333333333333, \"#9c179e\"], [0.4444444444444444, \"#bd3786\"], [0.5555555555555556, \"#d8576b\"], [0.6666666666666666, \"#ed7953\"], [0.7777777777777778, \"#fb9f3a\"], [0.8888888888888888, \"#fdca26\"], [1.0, \"#f0f921\"]], \"type\": \"histogram2dcontour\"}], \"mesh3d\": [{\"colorbar\": {\"outlinewidth\": 0, \"ticks\": \"\"}, \"type\": \"mesh3d\"}], \"parcoords\": [{\"line\": {\"colorbar\": {\"outlinewidth\": 0, \"ticks\": \"\"}}, \"type\": \"parcoords\"}], \"pie\": [{\"automargin\": true, \"type\": \"pie\"}], \"scatter\": [{\"marker\": {\"colorbar\": {\"outlinewidth\": 0, \"ticks\": \"\"}}, \"type\": \"scatter\"}], \"scatter3d\": [{\"line\": {\"colorbar\": {\"outlinewidth\": 0, \"ticks\": \"\"}}, \"marker\": {\"colorbar\": {\"outlinewidth\": 0, \"ticks\": \"\"}}, \"type\": \"scatter3d\"}], \"scattercarpet\": [{\"marker\": {\"colorbar\": {\"outlinewidth\": 0, \"ticks\": \"\"}}, \"type\": \"scattercarpet\"}], \"scattergeo\": [{\"marker\": {\"colorbar\": {\"outlinewidth\": 0, \"ticks\": \"\"}}, \"type\": \"scattergeo\"}], \"scattergl\": [{\"marker\": {\"colorbar\": {\"outlinewidth\": 0, \"ticks\": \"\"}}, \"type\": \"scattergl\"}], \"scattermapbox\": [{\"marker\": {\"colorbar\": {\"outlinewidth\": 0, \"ticks\": \"\"}}, \"type\": \"scattermapbox\"}], \"scatterpolar\": [{\"marker\": {\"colorbar\": {\"outlinewidth\": 0, \"ticks\": \"\"}}, \"type\": \"scatterpolar\"}], \"scatterpolargl\": [{\"marker\": {\"colorbar\": {\"outlinewidth\": 0, \"ticks\": \"\"}}, \"type\": \"scatterpolargl\"}], \"scatterternary\": [{\"marker\": {\"colorbar\": {\"outlinewidth\": 0, \"ticks\": \"\"}}, \"type\": \"scatterternary\"}], \"surface\": [{\"colorbar\": {\"outlinewidth\": 0, \"ticks\": \"\"}, \"colorscale\": [[0.0, \"#0d0887\"], [0.1111111111111111, \"#46039f\"], [0.2222222222222222, \"#7201a8\"], [0.3333333333333333, \"#9c179e\"], [0.4444444444444444, \"#bd3786\"], [0.5555555555555556, \"#d8576b\"], [0.6666666666666666, \"#ed7953\"], [0.7777777777777778, \"#fb9f3a\"], [0.8888888888888888, \"#fdca26\"], [1.0, \"#f0f921\"]], \"type\": \"surface\"}], \"table\": [{\"cells\": {\"fill\": {\"color\": \"#EBF0F8\"}, \"line\": {\"color\": \"white\"}}, \"header\": {\"fill\": {\"color\": \"#C8D4E3\"}, \"line\": {\"color\": \"white\"}}, \"type\": \"table\"}]}, \"layout\": {\"annotationdefaults\": {\"arrowcolor\": \"#2a3f5f\", \"arrowhead\": 0, \"arrowwidth\": 1}, \"coloraxis\": {\"colorbar\": {\"outlinewidth\": 0, \"ticks\": \"\"}}, \"colorscale\": {\"diverging\": [[0, \"#8e0152\"], [0.1, \"#c51b7d\"], [0.2, \"#de77ae\"], [0.3, \"#f1b6da\"], [0.4, \"#fde0ef\"], [0.5, \"#f7f7f7\"], [0.6, \"#e6f5d0\"], [0.7, \"#b8e186\"], [0.8, \"#7fbc41\"], [0.9, \"#4d9221\"], [1, \"#276419\"]], \"sequential\": [[0.0, \"#0d0887\"], [0.1111111111111111, \"#46039f\"], [0.2222222222222222, \"#7201a8\"], [0.3333333333333333, \"#9c179e\"], [0.4444444444444444, \"#bd3786\"], [0.5555555555555556, \"#d8576b\"], [0.6666666666666666, \"#ed7953\"], [0.7777777777777778, \"#fb9f3a\"], [0.8888888888888888, \"#fdca26\"], [1.0, \"#f0f921\"]], \"sequentialminus\": [[0.0, \"#0d0887\"], [0.1111111111111111, \"#46039f\"], [0.2222222222222222, \"#7201a8\"], [0.3333333333333333, \"#9c179e\"], [0.4444444444444444, \"#bd3786\"], [0.5555555555555556, \"#d8576b\"], [0.6666666666666666, \"#ed7953\"], [0.7777777777777778, \"#fb9f3a\"], [0.8888888888888888, \"#fdca26\"], [1.0, \"#f0f921\"]]}, \"colorway\": [\"#636efa\", \"#EF553B\", \"#00cc96\", \"#ab63fa\", \"#FFA15A\", \"#19d3f3\", \"#FF6692\", \"#B6E880\", \"#FF97FF\", \"#FECB52\"], \"font\": {\"color\": \"#2a3f5f\"}, \"geo\": {\"bgcolor\": \"white\", \"lakecolor\": \"white\", \"landcolor\": \"#E5ECF6\", \"showlakes\": true, \"showland\": true, \"subunitcolor\": \"white\"}, \"hoverlabel\": {\"align\": \"left\"}, \"hovermode\": \"closest\", \"mapbox\": {\"style\": \"light\"}, \"paper_bgcolor\": \"white\", \"plot_bgcolor\": \"#E5ECF6\", \"polar\": {\"angularaxis\": {\"gridcolor\": \"white\", \"linecolor\": \"white\", \"ticks\": \"\"}, \"bgcolor\": \"#E5ECF6\", \"radialaxis\": {\"gridcolor\": \"white\", \"linecolor\": \"white\", \"ticks\": \"\"}}, \"scene\": {\"xaxis\": {\"backgroundcolor\": \"#E5ECF6\", \"gridcolor\": \"white\", \"gridwidth\": 2, \"linecolor\": \"white\", \"showbackground\": true, \"ticks\": \"\", \"zerolinecolor\": \"white\"}, \"yaxis\": {\"backgroundcolor\": \"#E5ECF6\", \"gridcolor\": \"white\", \"gridwidth\": 2, \"linecolor\": \"white\", \"showbackground\": true, \"ticks\": \"\", \"zerolinecolor\": \"white\"}, \"zaxis\": {\"backgroundcolor\": \"#E5ECF6\", \"gridcolor\": \"white\", \"gridwidth\": 2, \"linecolor\": \"white\", \"showbackground\": true, \"ticks\": \"\", \"zerolinecolor\": \"white\"}}, \"shapedefaults\": {\"line\": {\"color\": \"#2a3f5f\"}}, \"ternary\": {\"aaxis\": {\"gridcolor\": \"white\", \"linecolor\": \"white\", \"ticks\": \"\"}, \"baxis\": {\"gridcolor\": \"white\", \"linecolor\": \"white\", \"ticks\": \"\"}, \"bgcolor\": \"#E5ECF6\", \"caxis\": {\"gridcolor\": \"white\", \"linecolor\": \"white\", \"ticks\": \"\"}}, \"title\": {\"x\": 0.05}, \"xaxis\": {\"automargin\": true, \"gridcolor\": \"white\", \"linecolor\": \"white\", \"ticks\": \"\", \"title\": {\"standoff\": 15}, \"zerolinecolor\": \"white\", \"zerolinewidth\": 2}, \"yaxis\": {\"automargin\": true, \"gridcolor\": \"white\", \"linecolor\": \"white\", \"ticks\": \"\", \"title\": {\"standoff\": 15}, \"zerolinecolor\": \"white\", \"zerolinewidth\": 2}}}, \"title\": {\"text\": \"Comparison model accuracy\"}, \"xaxis\": {\"anchor\": \"y\", \"domain\": [0.0, 1.0], \"title\": {\"text\": \"Model\"}}, \"yaxis\": {\"anchor\": \"x\", \"domain\": [0.0, 1.0], \"title\": {\"text\": \"Accuracy\"}}},\n",
              "                        {\"responsive\": true}\n",
              "                    ).then(function(){\n",
              "                            \n",
              "var gd = document.getElementById('241ce10b-ee8b-4c00-8ca0-ac9d8d1a47f4');\n",
              "var x = new MutationObserver(function (mutations, observer) {{\n",
              "        var display = window.getComputedStyle(gd).display;\n",
              "        if (!display || display === 'none') {{\n",
              "            console.log([gd, 'removed!']);\n",
              "            Plotly.purge(gd);\n",
              "            observer.disconnect();\n",
              "        }}\n",
              "}});\n",
              "\n",
              "// Listen for the removal of the full notebook cells\n",
              "var notebookContainer = gd.closest('#notebook-container');\n",
              "if (notebookContainer) {{\n",
              "    x.observe(notebookContainer, {childList: true});\n",
              "}}\n",
              "\n",
              "// Listen for the clearing of the current output cell\n",
              "var outputEl = gd.closest('.output');\n",
              "if (outputEl) {{\n",
              "    x.observe(outputEl, {childList: true});\n",
              "}}\n",
              "\n",
              "                        })\n",
              "                };\n",
              "                \n",
              "            </script>\n",
              "        </div>\n",
              "</body>\n",
              "</html>"
            ]
          },
          "metadata": {}
        }
      ]
    },
    {
      "cell_type": "markdown",
      "metadata": {
        "id": "3g0svd-_Ekqy"
      },
      "source": [
        "From the result, we can see Random Forest is the best model validation\n",
        "\n",
        "Hyperparameters in a random forest include the number of decision trees in the forest and the amount of attributes that each tree considers while splitting a node."
      ]
    },
    {
      "cell_type": "code",
      "metadata": {
        "id": "prECCVq5Dybq"
      },
      "source": [
        "#Hyperparameter grid for Random Forest\n",
        "\n",
        "random_forest_grid={\"n_estimators\": np.arange(10,1000,10),\n",
        "         \"max_depth\":[None,3,5,10],\n",
        "         \"min_samples_split\":np.arange(1,100,10),\n",
        "         \"min_samples_leaf\":np.arange(1,100,10)}"
      ],
      "execution_count": null,
      "outputs": []
    },
    {
      "cell_type": "code",
      "metadata": {
        "id": "Cz2KFOfLExrR",
        "colab": {
          "base_uri": "https://localhost:8080/"
        },
        "outputId": "22311bf1-6f99-4b77-e23e-965a9327bd86"
      },
      "source": [
        "\n",
        "#Tune Random Forest model\n",
        "np.random.seed(40)\n",
        "random_forest_search=RandomizedSearchCV(RandomForestClassifier(),\n",
        "                        param_distributions=random_forest_grid,\n",
        "                        n_iter=20,\n",
        "                        verbose=True)\n",
        "\n",
        "\n",
        "random_forest_search.fit(X_train,y_train)\n"
      ],
      "execution_count": null,
      "outputs": [
        {
          "output_type": "stream",
          "name": "stdout",
          "text": [
            "Fitting 5 folds for each of 20 candidates, totalling 100 fits\n"
          ]
        },
        {
          "output_type": "execute_result",
          "data": {
            "text/plain": [
              "RandomizedSearchCV(estimator=RandomForestClassifier(), n_iter=20,\n",
              "                   param_distributions={'max_depth': [None, 3, 5, 10],\n",
              "                                        'min_samples_leaf': array([ 1, 11, 21, 31, 41, 51, 61, 71, 81, 91]),\n",
              "                                        'min_samples_split': array([ 1, 11, 21, 31, 41, 51, 61, 71, 81, 91]),\n",
              "                                        'n_estimators': array([ 10,  20,  30,  40,  50,  60,  70,  80,  90, 100, 110, 120, 130,\n",
              "       140, 150, 160, 170, 180, 190, 200, 210, 220, 230, 240, 250, 260,\n",
              "       270, 280, 290, 300, 310, 320, 330, 340, 350, 360, 370, 380, 390,\n",
              "       400, 410, 420, 430, 440, 450, 460, 470, 480, 490, 500, 510, 520,\n",
              "       530, 540, 550, 560, 570, 580, 590, 600, 610, 620, 630, 640, 650,\n",
              "       660, 670, 680, 690, 700, 710, 720, 730, 740, 750, 760, 770, 780,\n",
              "       790, 800, 810, 820, 830, 840, 850, 860, 870, 880, 890, 900, 910,\n",
              "       920, 930, 940, 950, 960, 970, 980, 990])},\n",
              "                   verbose=True)"
            ]
          },
          "metadata": {},
          "execution_count": 79
        }
      ]
    },
    {
      "cell_type": "code",
      "metadata": {
        "id": "KgZnnp2AE6R8",
        "colab": {
          "base_uri": "https://localhost:8080/"
        },
        "outputId": "0db1f89e-2126-4e7f-bf44-dfb6e306eebe"
      },
      "source": [
        "random_forest_search.best_params_\n"
      ],
      "execution_count": null,
      "outputs": [
        {
          "output_type": "execute_result",
          "data": {
            "text/plain": [
              "{'max_depth': None,\n",
              " 'min_samples_leaf': 31,\n",
              " 'min_samples_split': 71,\n",
              " 'n_estimators': 260}"
            ]
          },
          "metadata": {},
          "execution_count": 81
        }
      ]
    },
    {
      "cell_type": "code",
      "metadata": {
        "id": "4-dEfwZAE7Rs",
        "colab": {
          "base_uri": "https://localhost:8080/"
        },
        "outputId": "69460e51-3776-4015-f191-d05d6f762fa7"
      },
      "source": [
        "random_forest_search.score(X_test,y_test)"
      ],
      "execution_count": null,
      "outputs": [
        {
          "output_type": "execute_result",
          "data": {
            "text/plain": [
              "0.42293810003191984"
            ]
          },
          "metadata": {},
          "execution_count": 82
        }
      ]
    },
    {
      "cell_type": "code",
      "metadata": {
        "id": "Mfa5MhTWE8_v",
        "colab": {
          "base_uri": "https://localhost:8080/",
          "height": 206
        },
        "outputId": "1faa1de7-9c4a-4214-9251-988474ac77c5"
      },
      "source": [
        "#Make predictions with tuned model\n",
        "y_preds=random_forest_search.predict(X_test)\n",
        "preds_df=pd.DataFrame(y_preds)\n",
        "preds_df.head()"
      ],
      "execution_count": null,
      "outputs": [
        {
          "output_type": "execute_result",
          "data": {
            "text/html": [
              "<div>\n",
              "<style scoped>\n",
              "    .dataframe tbody tr th:only-of-type {\n",
              "        vertical-align: middle;\n",
              "    }\n",
              "\n",
              "    .dataframe tbody tr th {\n",
              "        vertical-align: top;\n",
              "    }\n",
              "\n",
              "    .dataframe thead th {\n",
              "        text-align: right;\n",
              "    }\n",
              "</style>\n",
              "<table border=\"1\" class=\"dataframe\">\n",
              "  <thead>\n",
              "    <tr style=\"text-align: right;\">\n",
              "      <th></th>\n",
              "      <th>0</th>\n",
              "    </tr>\n",
              "  </thead>\n",
              "  <tbody>\n",
              "    <tr>\n",
              "      <th>0</th>\n",
              "      <td>Indie</td>\n",
              "    </tr>\n",
              "    <tr>\n",
              "      <th>1</th>\n",
              "      <td>Classical</td>\n",
              "    </tr>\n",
              "    <tr>\n",
              "      <th>2</th>\n",
              "      <td>Jazz</td>\n",
              "    </tr>\n",
              "    <tr>\n",
              "      <th>3</th>\n",
              "      <td>Reggaeton</td>\n",
              "    </tr>\n",
              "    <tr>\n",
              "      <th>4</th>\n",
              "      <td>Soul</td>\n",
              "    </tr>\n",
              "  </tbody>\n",
              "</table>\n",
              "</div>"
            ],
            "text/plain": [
              "           0\n",
              "0      Indie\n",
              "1  Classical\n",
              "2       Jazz\n",
              "3  Reggaeton\n",
              "4       Soul"
            ]
          },
          "metadata": {},
          "execution_count": 83
        }
      ]
    },
    {
      "cell_type": "code",
      "metadata": {
        "id": "X0lRgMXAFO9i",
        "colab": {
          "base_uri": "https://localhost:8080/",
          "height": 206
        },
        "outputId": "3c3f0df4-5c16-43ec-8f31-6f4afca76900"
      },
      "source": [
        "#Comparison actual vs predictions\n",
        "comparison=pd.DataFrame(data={\"Actual\":y_preds,\"Prediction\":y_test})\n",
        "comparison.head()"
      ],
      "execution_count": null,
      "outputs": [
        {
          "output_type": "execute_result",
          "data": {
            "text/html": [
              "<div>\n",
              "<style scoped>\n",
              "    .dataframe tbody tr th:only-of-type {\n",
              "        vertical-align: middle;\n",
              "    }\n",
              "\n",
              "    .dataframe tbody tr th {\n",
              "        vertical-align: top;\n",
              "    }\n",
              "\n",
              "    .dataframe thead th {\n",
              "        text-align: right;\n",
              "    }\n",
              "</style>\n",
              "<table border=\"1\" class=\"dataframe\">\n",
              "  <thead>\n",
              "    <tr style=\"text-align: right;\">\n",
              "      <th></th>\n",
              "      <th>Actual</th>\n",
              "      <th>Prediction</th>\n",
              "    </tr>\n",
              "  </thead>\n",
              "  <tbody>\n",
              "    <tr>\n",
              "      <th>97481</th>\n",
              "      <td>Indie</td>\n",
              "      <td>Children’s Music</td>\n",
              "    </tr>\n",
              "    <tr>\n",
              "      <th>219248</th>\n",
              "      <td>Classical</td>\n",
              "      <td>World</td>\n",
              "    </tr>\n",
              "    <tr>\n",
              "      <th>176897</th>\n",
              "      <td>Jazz</td>\n",
              "      <td>Jazz</td>\n",
              "    </tr>\n",
              "    <tr>\n",
              "      <th>161819</th>\n",
              "      <td>Reggaeton</td>\n",
              "      <td>Reggaeton</td>\n",
              "    </tr>\n",
              "    <tr>\n",
              "      <th>731</th>\n",
              "      <td>Soul</td>\n",
              "      <td>Country</td>\n",
              "    </tr>\n",
              "  </tbody>\n",
              "</table>\n",
              "</div>"
            ],
            "text/plain": [
              "           Actual        Prediction\n",
              "97481       Indie  Children’s Music\n",
              "219248  Classical             World\n",
              "176897       Jazz              Jazz\n",
              "161819  Reggaeton         Reggaeton\n",
              "731          Soul           Country"
            ]
          },
          "metadata": {},
          "execution_count": 84
        }
      ]
    },
    {
      "cell_type": "markdown",
      "metadata": {
        "id": "97DoVmmSScFB"
      },
      "source": [
        "#**5. Recommendation System**"
      ]
    },
    {
      "cell_type": "markdown",
      "metadata": {
        "id": "wLjTs_6eUqSg"
      },
      "source": [
        "**5.1. Content-based Filtering**\n",
        "\n"
      ]
    },
    {
      "cell_type": "code",
      "metadata": {
        "id": "w_uhSlFSUzuy"
      },
      "source": [
        "from sklearn.preprocessing import StandardScaler\n",
        "from sklearn.preprocessing import OneHotEncoder\n",
        "from scipy.spatial import distance"
      ],
      "execution_count": null,
      "outputs": []
    },
    {
      "cell_type": "markdown",
      "metadata": {
        "id": "CixupllSypsZ"
      },
      "source": [
        "Normalization\n"
      ]
    },
    {
      "cell_type": "code",
      "metadata": {
        "id": "VCppGi5vWefe"
      },
      "source": [
        "data = song_data.drop([\"track_id\",\"key\",\"mode\",\"time_signature\"],1)\n",
        "df = data.copy()\n",
        "df = df.drop([\"track_name\"],1)"
      ],
      "execution_count": null,
      "outputs": []
    },
    {
      "cell_type": "code",
      "metadata": {
        "id": "mruLdKhyVKGT"
      },
      "source": [
        "music_feature= ['acousticness','danceability','duration_ms',\n",
        "           'energy','instrumentalness','liveness','loudness',\n",
        "           'speechiness','tempo','valence']\n",
        "\n"
      ],
      "execution_count": null,
      "outputs": []
    },
    {
      "cell_type": "code",
      "metadata": {
        "id": "zFMZoek9VBGM"
      },
      "source": [
        "scaler = StandardScaler()\n",
        "df[music_feature] = scaler.fit_transform(df[music_feature])"
      ],
      "execution_count": null,
      "outputs": []
    },
    {
      "cell_type": "code",
      "metadata": {
        "id": "ih6P6L5aXhI1"
      },
      "source": [
        "encoder = OneHotEncoder(sparse=False, handle_unknown=\"ignore\")\n",
        "enc = pd.DataFrame(encoder.fit_transform(np.array(df[\"genre\"]).reshape(-1,1)))\n",
        "enc.columns = df[\"genre\"].unique()"
      ],
      "execution_count": null,
      "outputs": []
    },
    {
      "cell_type": "code",
      "metadata": {
        "id": "DdG9FY1dXsWM",
        "colab": {
          "base_uri": "https://localhost:8080/",
          "height": 313
        },
        "outputId": "1aab5db3-39ed-4eb1-83de-01a157ab7de3"
      },
      "source": [
        "df[enc.columns] = enc\n",
        "df = df.drop(\"genre\",1)\n",
        "df.head()"
      ],
      "execution_count": null,
      "outputs": [
        {
          "output_type": "execute_result",
          "data": {
            "text/html": [
              "<div>\n",
              "<style scoped>\n",
              "    .dataframe tbody tr th:only-of-type {\n",
              "        vertical-align: middle;\n",
              "    }\n",
              "\n",
              "    .dataframe tbody tr th {\n",
              "        vertical-align: top;\n",
              "    }\n",
              "\n",
              "    .dataframe thead th {\n",
              "        text-align: right;\n",
              "    }\n",
              "</style>\n",
              "<table border=\"1\" class=\"dataframe\">\n",
              "  <thead>\n",
              "    <tr style=\"text-align: right;\">\n",
              "      <th></th>\n",
              "      <th>artist_name</th>\n",
              "      <th>popularity</th>\n",
              "      <th>acousticness</th>\n",
              "      <th>danceability</th>\n",
              "      <th>duration_ms</th>\n",
              "      <th>energy</th>\n",
              "      <th>instrumentalness</th>\n",
              "      <th>liveness</th>\n",
              "      <th>loudness</th>\n",
              "      <th>speechiness</th>\n",
              "      <th>tempo</th>\n",
              "      <th>valence</th>\n",
              "      <th>Movie</th>\n",
              "      <th>R&amp;B</th>\n",
              "      <th>A Capella</th>\n",
              "      <th>Alternative</th>\n",
              "      <th>Country</th>\n",
              "      <th>Dance</th>\n",
              "      <th>Electronic</th>\n",
              "      <th>Anime</th>\n",
              "      <th>Folk</th>\n",
              "      <th>Blues</th>\n",
              "      <th>Opera</th>\n",
              "      <th>Hip-Hop</th>\n",
              "      <th>Children's Music</th>\n",
              "      <th>Children’s Music</th>\n",
              "      <th>Rap</th>\n",
              "      <th>Indie</th>\n",
              "      <th>Classical</th>\n",
              "      <th>Pop</th>\n",
              "      <th>Reggae</th>\n",
              "      <th>Reggaeton</th>\n",
              "      <th>Jazz</th>\n",
              "      <th>Rock</th>\n",
              "      <th>Ska</th>\n",
              "      <th>Comedy</th>\n",
              "      <th>Soul</th>\n",
              "      <th>Soundtrack</th>\n",
              "      <th>World</th>\n",
              "    </tr>\n",
              "  </thead>\n",
              "  <tbody>\n",
              "    <tr>\n",
              "      <th>0</th>\n",
              "      <td>Henri Salvador</td>\n",
              "      <td>0</td>\n",
              "      <td>0.683376</td>\n",
              "      <td>-0.890935</td>\n",
              "      <td>-1.141368</td>\n",
              "      <td>1.286908</td>\n",
              "      <td>-0.489819</td>\n",
              "      <td>0.660661</td>\n",
              "      <td>1.290703</td>\n",
              "      <td>-0.367970</td>\n",
              "      <td>1.595607</td>\n",
              "      <td>1.380744</td>\n",
              "      <td>0.0</td>\n",
              "      <td>0.0</td>\n",
              "      <td>0.0</td>\n",
              "      <td>0.0</td>\n",
              "      <td>0.0</td>\n",
              "      <td>0.0</td>\n",
              "      <td>0.0</td>\n",
              "      <td>0.0</td>\n",
              "      <td>0.0</td>\n",
              "      <td>0.0</td>\n",
              "      <td>0.0</td>\n",
              "      <td>0.0</td>\n",
              "      <td>0.0</td>\n",
              "      <td>0.0</td>\n",
              "      <td>0.0</td>\n",
              "      <td>1.0</td>\n",
              "      <td>0.0</td>\n",
              "      <td>0.0</td>\n",
              "      <td>0.0</td>\n",
              "      <td>0.0</td>\n",
              "      <td>0.0</td>\n",
              "      <td>0.0</td>\n",
              "      <td>0.0</td>\n",
              "      <td>0.0</td>\n",
              "      <td>0.0</td>\n",
              "      <td>0.0</td>\n",
              "      <td>0.0</td>\n",
              "    </tr>\n",
              "    <tr>\n",
              "      <th>1</th>\n",
              "      <td>Martin &amp; les fées</td>\n",
              "      <td>1</td>\n",
              "      <td>-0.345467</td>\n",
              "      <td>0.191994</td>\n",
              "      <td>-0.821867</td>\n",
              "      <td>0.630249</td>\n",
              "      <td>-0.489819</td>\n",
              "      <td>-0.322835</td>\n",
              "      <td>0.668683</td>\n",
              "      <td>-0.183082</td>\n",
              "      <td>1.823253</td>\n",
              "      <td>1.388435</td>\n",
              "      <td>0.0</td>\n",
              "      <td>0.0</td>\n",
              "      <td>0.0</td>\n",
              "      <td>0.0</td>\n",
              "      <td>0.0</td>\n",
              "      <td>0.0</td>\n",
              "      <td>0.0</td>\n",
              "      <td>0.0</td>\n",
              "      <td>0.0</td>\n",
              "      <td>0.0</td>\n",
              "      <td>0.0</td>\n",
              "      <td>0.0</td>\n",
              "      <td>0.0</td>\n",
              "      <td>0.0</td>\n",
              "      <td>0.0</td>\n",
              "      <td>1.0</td>\n",
              "      <td>0.0</td>\n",
              "      <td>0.0</td>\n",
              "      <td>0.0</td>\n",
              "      <td>0.0</td>\n",
              "      <td>0.0</td>\n",
              "      <td>0.0</td>\n",
              "      <td>0.0</td>\n",
              "      <td>0.0</td>\n",
              "      <td>0.0</td>\n",
              "      <td>0.0</td>\n",
              "      <td>0.0</td>\n",
              "    </tr>\n",
              "    <tr>\n",
              "      <th>2</th>\n",
              "      <td>Joseph Williams</td>\n",
              "      <td>3</td>\n",
              "      <td>1.644570</td>\n",
              "      <td>0.585296</td>\n",
              "      <td>-0.545298</td>\n",
              "      <td>-1.669954</td>\n",
              "      <td>-0.489819</td>\n",
              "      <td>-0.564927</td>\n",
              "      <td>-0.718402</td>\n",
              "      <td>-0.455832</td>\n",
              "      <td>-0.588326</td>\n",
              "      <td>-0.334212</td>\n",
              "      <td>0.0</td>\n",
              "      <td>0.0</td>\n",
              "      <td>0.0</td>\n",
              "      <td>0.0</td>\n",
              "      <td>0.0</td>\n",
              "      <td>0.0</td>\n",
              "      <td>0.0</td>\n",
              "      <td>0.0</td>\n",
              "      <td>0.0</td>\n",
              "      <td>0.0</td>\n",
              "      <td>0.0</td>\n",
              "      <td>0.0</td>\n",
              "      <td>0.0</td>\n",
              "      <td>0.0</td>\n",
              "      <td>0.0</td>\n",
              "      <td>1.0</td>\n",
              "      <td>0.0</td>\n",
              "      <td>0.0</td>\n",
              "      <td>0.0</td>\n",
              "      <td>0.0</td>\n",
              "      <td>0.0</td>\n",
              "      <td>0.0</td>\n",
              "      <td>0.0</td>\n",
              "      <td>0.0</td>\n",
              "      <td>0.0</td>\n",
              "      <td>0.0</td>\n",
              "      <td>0.0</td>\n",
              "    </tr>\n",
              "    <tr>\n",
              "      <th>3</th>\n",
              "      <td>Henri Salvador</td>\n",
              "      <td>0</td>\n",
              "      <td>0.942701</td>\n",
              "      <td>-1.693703</td>\n",
              "      <td>-0.695295</td>\n",
              "      <td>-0.929789</td>\n",
              "      <td>-0.489819</td>\n",
              "      <td>-0.587623</td>\n",
              "      <td>-0.434817</td>\n",
              "      <td>-0.438044</td>\n",
              "      <td>1.750597</td>\n",
              "      <td>-0.876384</td>\n",
              "      <td>0.0</td>\n",
              "      <td>0.0</td>\n",
              "      <td>0.0</td>\n",
              "      <td>0.0</td>\n",
              "      <td>0.0</td>\n",
              "      <td>0.0</td>\n",
              "      <td>0.0</td>\n",
              "      <td>0.0</td>\n",
              "      <td>0.0</td>\n",
              "      <td>0.0</td>\n",
              "      <td>0.0</td>\n",
              "      <td>0.0</td>\n",
              "      <td>0.0</td>\n",
              "      <td>0.0</td>\n",
              "      <td>0.0</td>\n",
              "      <td>1.0</td>\n",
              "      <td>0.0</td>\n",
              "      <td>0.0</td>\n",
              "      <td>0.0</td>\n",
              "      <td>0.0</td>\n",
              "      <td>0.0</td>\n",
              "      <td>0.0</td>\n",
              "      <td>0.0</td>\n",
              "      <td>0.0</td>\n",
              "      <td>0.0</td>\n",
              "      <td>0.0</td>\n",
              "      <td>0.0</td>\n",
              "    </tr>\n",
              "    <tr>\n",
              "      <th>4</th>\n",
              "      <td>Fabien Nataf</td>\n",
              "      <td>4</td>\n",
              "      <td>1.638932</td>\n",
              "      <td>-1.203422</td>\n",
              "      <td>-1.282184</td>\n",
              "      <td>-1.313157</td>\n",
              "      <td>-0.083566</td>\n",
              "      <td>-0.065613</td>\n",
              "      <td>-1.930601</td>\n",
              "      <td>-0.405163</td>\n",
              "      <td>0.741433</td>\n",
              "      <td>-0.249618</td>\n",
              "      <td>0.0</td>\n",
              "      <td>0.0</td>\n",
              "      <td>0.0</td>\n",
              "      <td>0.0</td>\n",
              "      <td>0.0</td>\n",
              "      <td>0.0</td>\n",
              "      <td>0.0</td>\n",
              "      <td>0.0</td>\n",
              "      <td>0.0</td>\n",
              "      <td>0.0</td>\n",
              "      <td>0.0</td>\n",
              "      <td>0.0</td>\n",
              "      <td>0.0</td>\n",
              "      <td>0.0</td>\n",
              "      <td>0.0</td>\n",
              "      <td>1.0</td>\n",
              "      <td>0.0</td>\n",
              "      <td>0.0</td>\n",
              "      <td>0.0</td>\n",
              "      <td>0.0</td>\n",
              "      <td>0.0</td>\n",
              "      <td>0.0</td>\n",
              "      <td>0.0</td>\n",
              "      <td>0.0</td>\n",
              "      <td>0.0</td>\n",
              "      <td>0.0</td>\n",
              "      <td>0.0</td>\n",
              "    </tr>\n",
              "  </tbody>\n",
              "</table>\n",
              "</div>"
            ],
            "text/plain": [
              "         artist_name  popularity  acousticness  ...  Soul  Soundtrack  World\n",
              "0     Henri Salvador           0      0.683376  ...   0.0         0.0    0.0\n",
              "1  Martin & les fées           1     -0.345467  ...   0.0         0.0    0.0\n",
              "2    Joseph Williams           3      1.644570  ...   0.0         0.0    0.0\n",
              "3     Henri Salvador           0      0.942701  ...   0.0         0.0    0.0\n",
              "4       Fabien Nataf           4      1.638932  ...   0.0         0.0    0.0\n",
              "\n",
              "[5 rows x 39 columns]"
            ]
          },
          "metadata": {},
          "execution_count": 29
        }
      ]
    },
    {
      "cell_type": "code",
      "metadata": {
        "id": "tJ39UivoXvOK"
      },
      "source": [
        "df[\"name\"] = data[\"track_name\"]\n",
        "df[\"artist\"] = data[\"artist_name\"]\n",
        "\n",
        "df_2 = df.drop([\"name\",\"artist\"],1)"
      ],
      "execution_count": null,
      "outputs": []
    },
    {
      "cell_type": "markdown",
      "metadata": {
        "id": "0NCT9tFssWf-"
      },
      "source": [
        "Looking for the song with the given artist and song name"
      ]
    },
    {
      "cell_type": "code",
      "metadata": {
        "id": "Tr6AEw9XXwxv"
      },
      "source": [
        "def find_similar_track(word,artist):\n",
        "    a = 0\n",
        "    b = 0\n",
        "    song = []\n",
        "    indexes = []\n",
        "    for i in data[\"track_name\"]:\n",
        "        if word.lower() in i.lower() and artist.lower() in data[\"artist_name\"][a].lower():\n",
        "            song.append(df_2[a:a+1].values)\n",
        "            indexes.append(a)\n",
        "            b+=1\n",
        "        a+=1\n",
        "    if b == 0:\n",
        "        print(\"Nothing found. Please try something else\")\n",
        "        return 0\n",
        "        \n",
        "    return song[0][0] , indexes[0]"
      ],
      "execution_count": null,
      "outputs": []
    },
    {
      "cell_type": "code",
      "metadata": {
        "id": "QUzT6m0eX5Sf",
        "colab": {
          "base_uri": "https://localhost:8080/"
        },
        "outputId": "cee4db62-e531-4054-c12a-abd1d3042629"
      },
      "source": [
        "#Test the model based on example\n",
        "word = \"summer\"\n",
        "artist = \"marshmello\"\n",
        "\n",
        "find_similar_track(word,artist)"
      ],
      "execution_count": null,
      "outputs": [
        {
          "output_type": "execute_result",
          "data": {
            "text/plain": [
              "(array(['Marshmello', 72, -1.019289193769618, 0.154279759202829,\n",
              "        -0.015834943066695965, 0.6720021602026667, -0.4102195444250857,\n",
              "        0.025171035143873133, 0.795554126919687, -0.4935642916271513,\n",
              "        0.7884572675616396, -0.7725642187650038, 0.0, 0.0, 0.0, 0.0, 0.0,\n",
              "        0.0, 0.0, 0.0, 0.0, 0.0, 0.0, 0.0, 0.0, 0.0, 0.0, 0.0, 0.0, 1.0,\n",
              "        0.0, 0.0, 0.0, 0.0, 0.0, 0.0, 0.0, 0.0, 0.0], dtype=object), 109886)"
            ]
          },
          "metadata": {},
          "execution_count": 36
        }
      ]
    },
    {
      "cell_type": "markdown",
      "metadata": {
        "id": "5L3cz8j3NMd-"
      },
      "source": [
        "**Cosine distance**\n"
      ]
    },
    {
      "cell_type": "code",
      "metadata": {
        "id": "-POX0Cn-zAgE"
      },
      "source": [
        "from sklearn.preprocessing import OneHotEncoder\n",
        "from scipy.spatial import distance\n",
        "\n",
        "def similar_tracks(data,number,song = \"\",artist = \"\"):\n",
        "\n",
        "    if (find_similar_track(song,artist) == 0):\n",
        "        return 0\n",
        "    else:\n",
        "        x = find_similar_track(song,artist)[0]\n",
        "        index = find_similar_track(song,artist)[1]\n",
        "    p = []\n",
        "    count=0\n",
        "    for i in df_2.values:\n",
        "        p.append([distance.cosine(x,i),count])\n",
        "        count+=1\n",
        "    p.sort()\n",
        "    song_names = df[\"name\"]\n",
        "    artist_names = df[\"artist\"]\n",
        "\n",
        "    print(\"\\nList of similarity songs to \",song_names[index],\" by \", artist_names[index],\"\\n\")\n",
        "    for i in range(1,number+1):\n",
        "        print(i,\"- \",song_names[p[i][1]],\", \",artist_names[p[i][1]])\n",
        "\n",
        " "
      ],
      "execution_count": null,
      "outputs": []
    },
    {
      "cell_type": "code",
      "source": [
        "#Take sample with 'Summer' of Marshmello\n",
        "''' song = \"summer\"\n",
        "artist = \"Marshmello\"\n",
        "number = 5 '''\n",
        "\n",
        "similar_tracks(df,10,'summer','Marshmello')"
      ],
      "metadata": {
        "id": "hlfMYcw4mXun"
      },
      "execution_count": null,
      "outputs": []
    },
    {
      "cell_type": "markdown",
      "metadata": {
        "id": "H-88BPUzSqyV"
      },
      "source": [
        "**5.2 Connecting to Spotify API**\n"
      ]
    },
    {
      "cell_type": "code",
      "metadata": {
        "id": "crFG7NbuS3Xz"
      },
      "source": [
        "''' !pip install requests \n",
        "!pip install tekore  '''"
      ],
      "execution_count": null,
      "outputs": []
    },
    {
      "cell_type": "code",
      "metadata": {
        "id": "4IMCZdPASnYJ"
      },
      "source": [
        "client_id = '7503e136fdc24a899b066851659b779e'\n",
        "client_secret = '73fe6af126ec47c88bd10de3d30a45ff'"
      ],
      "execution_count": null,
      "outputs": []
    },
    {
      "cell_type": "code",
      "metadata": {
        "id": "nquN9YVBVjEG"
      },
      "source": [
        "import requests\n",
        "\n",
        "auth_url = 'https://accounts.spotify.com/api/token'\n",
        "\n",
        "# POST method\n",
        "auth_response = requests.post(auth_url, {\n",
        "    'grant_type': 'client_credentials',\n",
        "    'client_id': '7503e136fdc24a899b066851659b779e',\n",
        "    'client_secret':'73fe6af126ec47c88bd10de3d30a45ff',\n",
        "})\n",
        "\n",
        "# JSON encoded\n",
        "auth_response_data = auth_response.json()\n",
        "\n",
        "# save the access token\n",
        "access_token = auth_response_data['access_token']\n",
        "\n",
        "# GET method\n",
        "headers = {\n",
        "    'Authorization': 'Bearer {token}'.format(token=access_token)\n",
        "}\n",
        "\n",
        "# base URL of all Spotify API endpoints\n",
        "base_url = 'https://api.spotify.com/v1/'\n",
        "\n",
        "# Track ID from the URI (trying with genre is 'trap')\n",
        "track_id = '6wXkFa3k8WL7pdwkfnLrVk'\n",
        "\n",
        "# performed the actual GET request with proper header\n",
        "response = requests.get(base_url + 'audio-features/' + track_id, headers=headers)\n"
      ],
      "execution_count": null,
      "outputs": []
    },
    {
      "cell_type": "code",
      "metadata": {
        "id": "RIMxBO3muUZs",
        "colab": {
          "base_uri": "https://localhost:8080/"
        },
        "outputId": "afe40663-7ba9-4585-ae54-bd44f1c45c61"
      },
      "source": [
        "# JSON encoded the response\n",
        "response = response.json()\n",
        "print(response)"
      ],
      "execution_count": null,
      "outputs": [
        {
          "output_type": "stream",
          "name": "stdout",
          "text": [
            "{'danceability': 0.662, 'energy': 0.911, 'key': 0, 'loudness': -2.971, 'mode': 1, 'speechiness': 0.177, 'acousticness': 0.00942, 'instrumentalness': 0.000167, 'liveness': 0.357, 'valence': 0.272, 'tempo': 139.974, 'type': 'audio_features', 'id': '6wXkFa3k8WL7pdwkfnLrVk', 'uri': 'spotify:track:6wXkFa3k8WL7pdwkfnLrVk', 'track_href': 'https://api.spotify.com/v1/tracks/6wXkFa3k8WL7pdwkfnLrVk', 'analysis_url': 'https://api.spotify.com/v1/audio-analysis/6wXkFa3k8WL7pdwkfnLrVk', 'duration_ms': 200000, 'time_signature': 4}\n"
          ]
        }
      ]
    },
    {
      "cell_type": "code",
      "metadata": {
        "id": "uvq8bpW5u2U3",
        "colab": {
          "base_uri": "https://localhost:8080/"
        },
        "outputId": "8c1ec89a-6654-42b6-c942-ad736045abc9"
      },
      "source": [
        "#Artist_id of 'Marshmello' \n",
        "artist_id = '64KEffDW9EtZ1y2vBYgq8T'\n",
        "\n",
        "# Shows all artists albums\n",
        "response = requests.get(base_url + 'artists/' + artist_id + '/albums', \n",
        "                 headers=headers, \n",
        "                 params={'include_groups': 'album', 'limit': 20})\n",
        "d = response.json()\n",
        "\n",
        "print(\"List albums of \" + artist ,\"\\n\")\n",
        "for album in d['items']:\n",
        "    print( album['name'] ,\"(\", album['release_date']  ,\")\" )"
      ],
      "execution_count": null,
      "outputs": [
        {
          "output_type": "stream",
          "name": "stdout",
          "text": [
            "List albums of marshmello \n",
            "\n",
            "Shockwave ( 2021-06-11 )\n",
            "Shockwave ( 2021-06-11 )\n",
            "Shockwave ( 2021-06-11 )\n",
            "Shockwave ( 2021-06-11 )\n",
            "Shockwave ( 2021-06-11 )\n",
            "Shockwave (Clean) ( 2021-06-11 )\n",
            "Joytime III ( 2019-07-03 )\n",
            "Joytime II ( 2018-06-22 )\n",
            "Joytime ( 2016-01-08 )\n"
          ]
        }
      ]
    }
  ]
}